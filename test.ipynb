{
 "cells": [
  {
   "cell_type": "code",
   "execution_count": 1,
   "metadata": {},
   "outputs": [
    {
     "name": "stdout",
     "output_type": "stream",
     "text": [
      "WARNING:tensorflow:From c:\\Users\\fk555\\AppData\\Local\\Programs\\Python\\Python311\\Lib\\site-packages\\keras\\src\\losses.py:2976: The name tf.losses.sparse_softmax_cross_entropy is deprecated. Please use tf.compat.v1.losses.sparse_softmax_cross_entropy instead.\n",
      "\n"
     ]
    }
   ],
   "source": [
    "import cv2\n",
    "import numpy as np\n",
    "from PIL import Image\n",
    "from keras.preprocessing import image\n",
    "from keras.models import load_model\n",
    "from keras.applications.densenet import preprocess_input\n",
    "\n",
    "\n"
   ]
  },
  {
   "cell_type": "code",
   "execution_count": 5,
   "metadata": {},
   "outputs": [],
   "source": [
    "image_path = 'Testing\\meningioma\\Te-me_0010.jpg' "
   ]
  },
  {
   "cell_type": "code",
   "execution_count": 3,
   "metadata": {},
   "outputs": [
    {
     "name": "stdout",
     "output_type": "stream",
     "text": [
      "WARNING:tensorflow:From c:\\Users\\fk555\\AppData\\Local\\Programs\\Python\\Python311\\Lib\\site-packages\\keras\\src\\backend.py:1398: The name tf.executing_eagerly_outside_functions is deprecated. Please use tf.compat.v1.executing_eagerly_outside_functions instead.\n",
      "\n",
      "WARNING:tensorflow:From c:\\Users\\fk555\\AppData\\Local\\Programs\\Python\\Python311\\Lib\\site-packages\\keras\\src\\layers\\pooling\\max_pooling2d.py:161: The name tf.nn.max_pool is deprecated. Please use tf.nn.max_pool2d instead.\n",
      "\n"
     ]
    }
   ],
   "source": [
    "# Constants\n",
    " # Replace with the path to your test image\n",
    "class_folders = ['glioma', 'meningioma', 'notumor', 'pituitary']\n",
    "INPUT_SIZE_DENSENET = (224, 224)  # Adjusted image size\n",
    "\n",
    "# Load the trained model\n",
    "model = load_model('BrainTumorModel2.keras')  # Replace with your model file\n",
    "\n"
   ]
  },
  {
   "cell_type": "code",
   "execution_count": 6,
   "metadata": {},
   "outputs": [
    {
     "name": "stdout",
     "output_type": "stream",
     "text": [
      "1/1 [==============================] - 0s 198ms/step\n",
      "The predicted class is: meningioma\n"
     ]
    }
   ],
   "source": [
    "# Load and preprocess the test image\n",
    "test_image = cv2.imread(image_path)\n",
    "if test_image is not None:\n",
    "    test_image = Image.fromarray(test_image, 'RGB')\n",
    "    test_image = test_image.resize((INPUT_SIZE_DENSENET[0], INPUT_SIZE_DENSENET[1]))\n",
    "    test_image = np.array(test_image)\n",
    "    test_image = np.expand_dims(test_image, axis=0)\n",
    "    test_image = preprocess_input(test_image)\n",
    "\n",
    "    # Make predictions\n",
    "    predictions = model.predict(test_image)\n",
    "    predicted_class_index = np.argmax(predictions)\n",
    "    predicted_class = class_folders[predicted_class_index]\n",
    "\n",
    "    # Print the result\n",
    "    print(f'The predicted class is: {predicted_class}')\n",
    "else:\n",
    "    print(f'Error reading the test image at path: {image_path}')"
   ]
  }
 ],
 "metadata": {
  "kernelspec": {
   "display_name": "bt",
   "language": "python",
   "name": "python3"
  },
  "language_info": {
   "codemirror_mode": {
    "name": "ipython",
    "version": 3
   },
   "file_extension": ".py",
   "mimetype": "text/x-python",
   "name": "python",
   "nbconvert_exporter": "python",
   "pygments_lexer": "ipython3",
   "version": "3.11.4"
  }
 },
 "nbformat": 4,
 "nbformat_minor": 2
}
